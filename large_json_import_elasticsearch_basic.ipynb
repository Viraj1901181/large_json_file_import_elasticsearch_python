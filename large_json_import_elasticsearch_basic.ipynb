{
 "cells": [
  {
   "cell_type": "code",
   "execution_count": 3,
   "metadata": {},
   "outputs": [],
   "source": [
    "import time\n",
    "start_time = time.time()"
   ]
  },
  {
   "cell_type": "code",
   "execution_count": null,
   "metadata": {},
   "outputs": [],
   "source": [
    "import logging\n",
    "from elasticsearch import Elasticsearch\n",
    "logging.basicConfig(level=logging.ERROR)\n",
    "def connect_elasticsearch(url = 'localhost', port = 9200):\n",
    "    _es = None\n",
    "    _es = Elasticsearch([{'host': url, 'port': port}])\n",
    "    if _es.ping():\n",
    "        print('Connection to ' + url + ':' + str(port) + ' successful')\n",
    "    else:\n",
    "        print('Ping failed, some error in connection. Check the logs')\n",
    "    return _es"
   ]
  },
  {
   "cell_type": "code",
   "execution_count": null,
   "metadata": {},
   "outputs": [],
   "source": [
    "def delete_index(index):\n",
    "    es.indices.delete(index=index, ignore=[400, 404])"
   ]
  },
  {
   "cell_type": "code",
   "execution_count": null,
   "metadata": {},
   "outputs": [],
   "source": [
    "import json\n",
    "\n",
    "# Each line should be a independent json record\n",
    "def yield_record(file_path, encoding=\"utf8\"):\n",
    "    line_counter = 0\n",
    "    with open(file_path, encoding=encoding) as f:\n",
    "        for line in f:\n",
    "            line_counter = line_counter + 1\n",
    "            single_record = json.loads(line)\n",
    "            record_id = single_record['id']\n",
    "            del single_record['id']\n",
    "            yield record_id, single_record \n",
    "    print(\"Inserted total \" + str(line_counter) + \" lines\")"
   ]
  },
  {
   "cell_type": "code",
   "execution_count": null,
   "metadata": {},
   "outputs": [],
   "source": [
    "from elasticsearch import helpers\n",
    "\n",
    "def es_add_bulk(file_path):\n",
    "    records = ({\n",
    "            \"_index\": \"<your index name>\",\n",
    "            \"_type\" : \"<your type name>\",\n",
    "            \"_id\"   : record_id,\n",
    "            \"_source\": record,\n",
    "         } for record_id, record in yield_record(file_path))\n",
    "    \n",
    "    helpers.bulk(es, records)"
   ]
  },
  {
   "cell_type": "code",
   "execution_count": null,
   "metadata": {},
   "outputs": [],
   "source": [
    "es = connect_elasticsearch()"
   ]
  },
  {
   "cell_type": "code",
   "execution_count": null,
   "metadata": {},
   "outputs": [],
   "source": [
    "# Sample mappings\n",
    "mappings = {\n",
    "    \"settings\":{\n",
    "        \"index\": {\n",
    "            \"number_of_shards\": 5,\n",
    "            \"number_of_replicas\":1,\n",
    "            \"codec\": \"best_compression\"\n",
    "        }\n",
    "    },\n",
    "     \"mappings\": {\n",
    "         \"<_type goes here>\":{\n",
    "             \"properties\": {\n",
    "                 \"title\": {\n",
    "                    \"type\": \"text\"\n",
    "                  },\n",
    "                  \"someotherfield\": {\n",
    "                    \"index\": False\n",
    "                  }\n",
    "            }\n",
    "        }\n",
    "     }\n",
    "}\n",
    "\n",
    "es.indices.create(index='<your index name here>', ignore=400, body=mappings)"
   ]
  },
  {
   "cell_type": "code",
   "execution_count": null,
   "metadata": {},
   "outputs": [],
   "source": [
    "es_add_bulk(\"<your file path with extension here>\")"
   ]
  },
  {
   "cell_type": "code",
   "execution_count": 12,
   "metadata": {},
   "outputs": [
    {
     "name": "stdout",
     "output_type": "stream",
     "text": [
      "Execution Time: --- 1.39 minutes (83.43 seconds) ---\n"
     ]
    }
   ],
   "source": [
    "_execution_time = round(time.time() - start_time, 2) # in seconds\n",
    "print(\"Execution Time: --- %s minutes (%s seconds) ---\" % (round(_execution_time/60,2) , _execution_time))"
   ]
  }
 ],
 "metadata": {
  "kernelspec": {
   "display_name": "Python 3",
   "language": "python",
   "name": "python3"
  },
  "language_info": {
   "codemirror_mode": {
    "name": "ipython",
    "version": 3
   },
   "file_extension": ".py",
   "mimetype": "text/x-python",
   "name": "python",
   "nbconvert_exporter": "python",
   "pygments_lexer": "ipython3",
   "version": "3.7.5"
  }
 },
 "nbformat": 4,
 "nbformat_minor": 2
}
