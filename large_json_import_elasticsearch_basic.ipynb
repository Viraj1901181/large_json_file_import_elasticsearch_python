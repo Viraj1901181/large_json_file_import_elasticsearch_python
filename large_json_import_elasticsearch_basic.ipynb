{
 "cells": [
  {
   "cell_type": "code",
   "execution_count": null,
   "metadata": {},
   "outputs": [],
   "source": [
    "import logging\n",
    "from elasticsearch import Elasticsearch\n",
    "logging.basicConfig(level=logging.ERROR)\n",
    "def connect_elasticsearch(url = 'localhost', port = 9200):\n",
    "    _es = None\n",
    "    _es = Elasticsearch([{'host': url, 'port': port}])\n",
    "    if _es.ping():\n",
    "        print('Connection to ' + url + ':' + str(port) + ' successful')\n",
    "    else:\n",
    "        print('Ping failed, some error in connection. Check the logs')\n",
    "    return _es\n",
    "\n",
    "es = connect_elasticsearch()"
   ]
  },
  {
   "cell_type": "code",
   "execution_count": null,
   "metadata": {},
   "outputs": [],
   "source": [
    "import json\n",
    "\n",
    "line_counter = 0\n",
    "with open('your file path here', encoding=\"utf8\") as f:\n",
    "    for line in f:\n",
    "        line_counter = line_counter + 1\n",
    "        print(line)\n",
    "        single_record = json.loads(line)\n",
    "        # Insert record into the database\n",
    "        es.index(index='research_portal', doc_type=\"doc\", body=single_record)\n",
    "      \n",
    "print(\"Inserted total \" + str(line_counter) + \" lines\")"
   ]
  }
 ],
 "metadata": {
  "kernelspec": {
   "display_name": "Python 3",
   "language": "python",
   "name": "python3"
  },
  "language_info": {
   "codemirror_mode": {
    "name": "ipython",
    "version": 3
   },
   "file_extension": ".py",
   "mimetype": "text/x-python",
   "name": "python",
   "nbconvert_exporter": "python",
   "pygments_lexer": "ipython3",
   "version": "3.7.5"
  }
 },
 "nbformat": 4,
 "nbformat_minor": 2
}
